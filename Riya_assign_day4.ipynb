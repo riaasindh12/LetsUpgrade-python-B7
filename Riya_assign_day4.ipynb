{
  "nbformat": 4,
  "nbformat_minor": 0,
  "metadata": {
    "colab": {
      "name": "Riya assign day4.ipynb",
      "provenance": [],
      "collapsed_sections": [],
      "authorship_tag": "ABX9TyNH0pDIeUwNJzoF9nrTP6vf",
      "include_colab_link": true
    },
    "kernelspec": {
      "name": "python3",
      "display_name": "Python 3"
    }
  },
  "cells": [
    {
      "cell_type": "markdown",
      "metadata": {
        "id": "view-in-github",
        "colab_type": "text"
      },
      "source": [
        "<a href=\"https://colab.research.google.com/github/riaasindh12/LetsUpgrade-python-B7/blob/master/Riya_assign_day4.ipynb\" target=\"_parent\"><img src=\"https://colab.research.google.com/assets/colab-badge.svg\" alt=\"Open In Colab\"/></a>"
      ]
    },
    {
      "cell_type": "code",
      "metadata": {
        "id": "RdrjS4JR0pvw",
        "colab_type": "code",
        "colab": {}
      },
      "source": [
        "#ASSIGNMENT OF DAY 4"
      ],
      "execution_count": null,
      "outputs": []
    },
    {
      "cell_type": "code",
      "metadata": {
        "id": "0irD3VbE00nU",
        "colab_type": "code",
        "colab": {}
      },
      "source": [
        "#QUESTION 1\n",
        "#TO PRINT FIRST ARMSTRONG NUMBER"
      ],
      "execution_count": null,
      "outputs": []
    },
    {
      "cell_type": "code",
      "metadata": {
        "id": "6cRbZSvs_m8Y",
        "colab_type": "code",
        "colab": {
          "base_uri": "https://localhost:8080/",
          "height": 54
        },
        "outputId": "64f03e97-1fed-417b-b5fc-d8aa2d7b1970"
      },
      "source": [
        " lower = 1042000\n",
        "upper = 702648625\n",
        " \n",
        "for num in range(lower, upper + 1):\n",
        " \n",
        "   # order of number\n",
        "   order = len(str(num))\n",
        "    \n",
        "   # initialize sum\n",
        "   sum = 0\n",
        " \n",
        "   temp = num\n",
        "   while temp > 0:\n",
        "       digit = temp % 10\n",
        "       sum += digit ** order\n",
        "       temp //= 10\n",
        " \n",
        "   if num == sum:\n",
        "       print(\"First Armstrong number is =\", num)\n",
        "       break"
      ],
      "execution_count": 59,
      "outputs": [
        {
          "output_type": "stream",
          "text": [
            "First Armstrong number is = 1741725\n"
          ],
          "name": "stdout"
        }
      ]
    }
  ]
}