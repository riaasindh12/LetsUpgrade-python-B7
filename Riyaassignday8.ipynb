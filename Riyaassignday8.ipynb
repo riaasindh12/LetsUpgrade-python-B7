{
  "nbformat": 4,
  "nbformat_minor": 0,
  "metadata": {
    "colab": {
      "name": "Riyaassignday8.ipynb",
      "provenance": [],
      "collapsed_sections": [],
      "authorship_tag": "ABX9TyMBqaXzGi7SA6BIdQaATrUk",
      "include_colab_link": true
    },
    "kernelspec": {
      "name": "python3",
      "display_name": "Python 3"
    }
  },
  "cells": [
    {
      "cell_type": "markdown",
      "metadata": {
        "id": "view-in-github",
        "colab_type": "text"
      },
      "source": [
        "<a href=\"https://colab.research.google.com/github/riaasindh12/LetsUpgrade-python-B7/blob/master/Riyaassignday8.ipynb\" target=\"_parent\"><img src=\"https://colab.research.google.com/assets/colab-badge.svg\" alt=\"Open In Colab\"/></a>"
      ]
    },
    {
      "cell_type": "code",
      "metadata": {
        "id": "Ilk-9RzZXvK1",
        "colab_type": "code",
        "colab": {}
      },
      "source": [
        "#ASSIGNMENT DAY 8\n",
        "#PYTHON ESSENTIALS(BATCH 7)"
      ],
      "execution_count": null,
      "outputs": []
    },
    {
      "cell_type": "code",
      "metadata": {
        "id": "eWo_Oo9lX0Ps",
        "colab_type": "code",
        "colab": {}
      },
      "source": [
        "#Question 1"
      ],
      "execution_count": null,
      "outputs": []
    },
    {
      "cell_type": "code",
      "metadata": {
        "id": "LBWFKxCGX4cU",
        "colab_type": "code",
        "colab": {}
      },
      "source": [
        "def fibonacci(num):\n",
        "  def fibo(n):\n",
        "    if n<=0:\n",
        "      print(\" number is incorrect\")\n",
        "    elif n==1:\n",
        "      return 0\n",
        "    elif n==2: \n",
        "      return 1\n",
        "    else:\n",
        "      return(fibo(n-1)+fibo(n-2))\n",
        "    return num(n)\n",
        "  return fibo"
      ],
      "execution_count": null,
      "outputs": []
    },
    {
      "cell_type": "code",
      "metadata": {
        "id": "Jj5GnJUaZtoT",
        "colab_type": "code",
        "colab": {}
      },
      "source": [
        "@fibonacci\n",
        "def fibo_num(n):\n",
        "     print(n)"
      ],
      "execution_count": null,
      "outputs": []
    },
    {
      "cell_type": "code",
      "metadata": {
        "id": "CoN0qIz_aCgN",
        "colab_type": "code",
        "colab": {
          "base_uri": "https://localhost:8080/",
          "height": 34
        },
        "outputId": "da3960f2-7988-44b5-d2ce-ef015dfad527"
      },
      "source": [
        "fibo_num(1)"
      ],
      "execution_count": null,
      "outputs": [
        {
          "output_type": "execute_result",
          "data": {
            "text/plain": [
              "0"
            ]
          },
          "metadata": {
            "tags": []
          },
          "execution_count": 8
        }
      ]
    },
    {
      "cell_type": "code",
      "metadata": {
        "id": "rv8WyuL0aFSC",
        "colab_type": "code",
        "colab": {
          "base_uri": "https://localhost:8080/",
          "height": 34
        },
        "outputId": "099981d1-e315-4f86-bc63-8805decc9278"
      },
      "source": [
        "fibo_num(2)"
      ],
      "execution_count": null,
      "outputs": [
        {
          "output_type": "execute_result",
          "data": {
            "text/plain": [
              "1"
            ]
          },
          "metadata": {
            "tags": []
          },
          "execution_count": 9
        }
      ]
    },
    {
      "cell_type": "code",
      "metadata": {
        "id": "df17Z2YvaJ0u",
        "colab_type": "code",
        "colab": {
          "base_uri": "https://localhost:8080/",
          "height": 51
        },
        "outputId": "db4ecd38-9f69-416b-90e2-90ec4523c120"
      },
      "source": [
        "fibo_num(-1)"
      ],
      "execution_count": null,
      "outputs": [
        {
          "output_type": "stream",
          "text": [
            " number is incorrect\n",
            "-1\n"
          ],
          "name": "stdout"
        }
      ]
    },
    {
      "cell_type": "code",
      "metadata": {
        "id": "lvrJ_DFSaN81",
        "colab_type": "code",
        "colab": {
          "base_uri": "https://localhost:8080/",
          "height": 34
        },
        "outputId": "5fdc2f84-8b9c-495f-e4f3-c20c3a8cdbb5"
      },
      "source": [
        "fibo_num(20)"
      ],
      "execution_count": null,
      "outputs": [
        {
          "output_type": "execute_result",
          "data": {
            "text/plain": [
              "4181"
            ]
          },
          "metadata": {
            "tags": []
          },
          "execution_count": 11
        }
      ]
    },
    {
      "cell_type": "code",
      "metadata": {
        "id": "VDTgg1cUabug",
        "colab_type": "code",
        "colab": {
          "base_uri": "https://localhost:8080/",
          "height": 34
        },
        "outputId": "5243bf49-23de-4b54-b3f1-151d9481974f"
      },
      "source": [
        "fibo_num(5)"
      ],
      "execution_count": null,
      "outputs": [
        {
          "output_type": "execute_result",
          "data": {
            "text/plain": [
              "3"
            ]
          },
          "metadata": {
            "tags": []
          },
          "execution_count": 13
        }
      ]
    },
    {
      "cell_type": "code",
      "metadata": {
        "id": "ESXGNVAYc_oQ",
        "colab_type": "code",
        "colab": {}
      },
      "source": [
        "#Question 2"
      ],
      "execution_count": null,
      "outputs": []
    },
    {
      "cell_type": "code",
      "metadata": {
        "id": "lm7eiJBjdDwm",
        "colab_type": "code",
        "colab": {}
      },
      "source": [
        "file=open('riya.txt','w')\n",
        "file.write(\"hey myself Riya\")\n",
        "file.close()"
      ],
      "execution_count": null,
      "outputs": []
    },
    {
      "cell_type": "code",
      "metadata": {
        "id": "HZFV4mmTeS6A",
        "colab_type": "code",
        "colab": {
          "base_uri": "https://localhost:8080/",
          "height": 35
        },
        "outputId": "59e7f08c-e4c8-4056-e9e4-cc205b8f4966"
      },
      "source": [
        "file=open('riya.txt','r')\n",
        "file.read()"
      ],
      "execution_count": null,
      "outputs": [
        {
          "output_type": "execute_result",
          "data": {
            "application/vnd.google.colaboratory.intrinsic+json": {
              "type": "string"
            },
            "text/plain": [
              "'hey myself Riya'"
            ]
          },
          "metadata": {
            "tags": []
          },
          "execution_count": 21
        }
      ]
    },
    {
      "cell_type": "code",
      "metadata": {
        "id": "8N5pN3ygetWK",
        "colab_type": "code",
        "colab": {}
      },
      "source": [
        "file=open('riya.txt','a')\n",
        "file.write(\" hey myself Riya\")\n",
        "file.close()"
      ],
      "execution_count": null,
      "outputs": []
    },
    {
      "cell_type": "code",
      "metadata": {
        "id": "Y9mGWsVqfnb9",
        "colab_type": "code",
        "colab": {}
      },
      "source": [
        " file=open('riya.txt')\n",
        "file.close()"
      ],
      "execution_count": null,
      "outputs": []
    },
    {
      "cell_type": "code",
      "metadata": {
        "id": "ryNeBJOEf6Fd",
        "colab_type": "code",
        "colab": {
          "base_uri": "https://localhost:8080/",
          "height": 86
        },
        "outputId": "a558238f-7f56-4f62-ddb9-4fb71b5f79db"
      },
      "source": [
        " file=open('riya.txt')\n",
        "file.read()"
      ],
      "execution_count": null,
      "outputs": [
        {
          "output_type": "execute_result",
          "data": {
            "application/vnd.google.colaboratory.intrinsic+json": {
              "type": "string"
            },
            "text/plain": [
              "'hey myself Riyahey myself Riya\\n hey myself Riya hey myself Riya hey myself Riya hey myself Riya'"
            ]
          },
          "metadata": {
            "tags": []
          },
          "execution_count": 36
        }
      ]
    }
  ]
}