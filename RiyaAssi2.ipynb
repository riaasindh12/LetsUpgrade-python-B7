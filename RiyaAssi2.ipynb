{
  "nbformat": 4,
  "nbformat_minor": 0,
  "metadata": {
    "colab": {
      "name": "Assi2.ipynb",
      "provenance": [],
      "collapsed_sections": [],
      "authorship_tag": "ABX9TyNRKY/m0wST/6JfkHIpiNPF",
      "include_colab_link": true
    },
    "kernelspec": {
      "name": "python3",
      "display_name": "Python 3"
    }
  },
  "cells": [
    {
      "cell_type": "markdown",
      "metadata": {
        "id": "view-in-github",
        "colab_type": "text"
      },
      "source": [
        "<a href=\"https://colab.research.google.com/github/riaasindh12/LetsUpgrade-python-B7/blob/master/RiyaAssi2.ipynb\" target=\"_parent\"><img src=\"https://colab.research.google.com/assets/colab-badge.svg\" alt=\"Open In Colab\"/></a>"
      ]
    },
    {
      "cell_type": "code",
      "metadata": {
        "id": "fu7-A2dmCujc",
        "colab_type": "code",
        "colab": {}
      },
      "source": [
        "#ASSIGNMENT DAY 3\n",
        "#PYTHON ESSENTIALS BATCH 7"
      ],
      "execution_count": null,
      "outputs": []
    },
    {
      "cell_type": "code",
      "metadata": {
        "id": "72AFlYk_Egkx",
        "colab_type": "code",
        "colab": {}
      },
      "source": [
        "# QUESTION 2"
      ],
      "execution_count": null,
      "outputs": []
    },
    {
      "cell_type": "code",
      "metadata": {
        "id": "MQsrwx8MEmDJ",
        "colab_type": "code",
        "colab": {}
      },
      "source": [
        " #Using for loop print all\n",
        "#prime numbers between 1-200\n",
        "#using for loop and range function."
      ],
      "execution_count": null,
      "outputs": []
    },
    {
      "cell_type": "code",
      "metadata": {
        "id": "Eag-AYaTXpBs",
        "colab_type": "code",
        "colab": {}
      },
      "source": [
        "#program"
      ],
      "execution_count": null,
      "outputs": []
    },
    {
      "cell_type": "code",
      "metadata": {
        "id": "SXiyV_8VEF3Q",
        "colab_type": "code",
        "colab": {
          "base_uri": "https://localhost:8080/",
          "height": 833
        },
        "outputId": "77c2af05-90f1-43b3-ae92-265f8e029be3"
      },
      "source": [
        " lower=input(\"Enter lower range\")\n",
        "upper=input(\"Enter upper range\")\n",
        "lower=int(lower)\n",
        "upper=int(upper)\n",
        " \n",
        "for num in range(lower,upper+1):\n",
        "   if num>1:\n",
        "      for i in range(2,num):\n",
        "        if(num%i)==0:\n",
        "           break\n",
        "      else:\n",
        "        print(num)"
      ],
      "execution_count": null,
      "outputs": [
        {
          "output_type": "stream",
          "text": [
            "Enter lower range1\n",
            "Enter upper range199\n",
            "2\n",
            "3\n",
            "5\n",
            "7\n",
            "11\n",
            "13\n",
            "17\n",
            "19\n",
            "23\n",
            "29\n",
            "31\n",
            "37\n",
            "41\n",
            "43\n",
            "47\n",
            "53\n",
            "59\n",
            "61\n",
            "67\n",
            "71\n",
            "73\n",
            "79\n",
            "83\n",
            "89\n",
            "97\n",
            "101\n",
            "103\n",
            "107\n",
            "109\n",
            "113\n",
            "127\n",
            "131\n",
            "137\n",
            "139\n",
            "149\n",
            "151\n",
            "157\n",
            "163\n",
            "167\n",
            "173\n",
            "179\n",
            "181\n",
            "191\n",
            "193\n",
            "197\n",
            "199\n"
          ],
          "name": "stdout"
        }
      ]
    },
    {
      "cell_type": "code",
      "metadata": {
        "id": "ceDL0FmXNtNt",
        "colab_type": "code",
        "colab": {}
      },
      "source": [
        "#QUESTION 1"
      ],
      "execution_count": null,
      "outputs": []
    },
    {
      "cell_type": "code",
      "metadata": {
        "id": "wlllDoE4XvCz",
        "colab_type": "code",
        "colab": {}
      },
      "source": [
        "#program"
      ],
      "execution_count": null,
      "outputs": []
    },
    {
      "cell_type": "code",
      "metadata": {
        "id": "GC59LQ-U9Lrk",
        "colab_type": "code",
        "colab": {
          "base_uri": "https://localhost:8080/",
          "height": 51
        },
        "outputId": "8756d53d-0506-4551-92dd-262113b7de3e"
      },
      "source": [
        "Alt=input(\"Enter altitude:- \")\n",
        "Alt=int(Alt)\n",
        "if Alt ==1000:\n",
        "    print(\"safe to land\")\n",
        "elif ((Alt >1000)and(Alt <5000)):\n",
        "    print(\"bring down to 1000\")\n",
        "elif (Alt >5000):\n",
        "    print(\"go around and try later\")\n",
        "else:\n",
        "    print(\" \")"
      ],
      "execution_count": null,
      "outputs": [
        {
          "output_type": "stream",
          "text": [
            "Enter altitude:- 6000\n",
            "go around and try later\n"
          ],
          "name": "stdout"
        }
      ]
    },
    {
      "cell_type": "code",
      "metadata": {
        "id": "inQdEuUBXSfe",
        "colab_type": "code",
        "colab": {
          "base_uri": "https://localhost:8080/",
          "height": 51
        },
        "outputId": "2d106bed-f68a-4195-d5a9-09749cc51ab0"
      },
      "source": [
        " Alt=input(\"Enter altitude:- \")\n",
        "Alt=int(Alt)\n",
        "if Alt ==1000:\n",
        "    print(\"safe to land\")\n",
        "elif ((Alt >1000)and(Alt <5000)):\n",
        "    print(\"bring down to 1000\")\n",
        "elif (Alt >5000):\n",
        "    print(\"go around and try later\")\n",
        "else:\n",
        "    print(\" \")"
      ],
      "execution_count": null,
      "outputs": [
        {
          "output_type": "stream",
          "text": [
            "Enter altitude:- 4625\n",
            "bring down to 1000\n"
          ],
          "name": "stdout"
        }
      ]
    }
  ]
}