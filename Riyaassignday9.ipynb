{
  "nbformat": 4,
  "nbformat_minor": 0,
  "metadata": {
    "colab": {
      "name": "Riyaassignday9.ipynb",
      "provenance": [],
      "collapsed_sections": [],
      "authorship_tag": "ABX9TyOLp0qp16aS+uUj2IgJ90zD",
      "include_colab_link": true
    },
    "kernelspec": {
      "name": "python3",
      "display_name": "Python 3"
    }
  },
  "cells": [
    {
      "cell_type": "markdown",
      "metadata": {
        "id": "view-in-github",
        "colab_type": "text"
      },
      "source": [
        "<a href=\"https://colab.research.google.com/github/riaasindh12/LetsUpgrade-python-B7/blob/master/Riyaassignday9.ipynb\" target=\"_parent\"><img src=\"https://colab.research.google.com/assets/colab-badge.svg\" alt=\"Open In Colab\"/></a>"
      ]
    },
    {
      "cell_type": "code",
      "metadata": {
        "id": "SRt20QQpkMvQ",
        "colab_type": "code",
        "colab": {}
      },
      "source": [
        "#ASSIGNMENT DAY 9\n",
        "#PYTHON ESSENTIALS(BATCH 7)"
      ],
      "execution_count": null,
      "outputs": []
    },
    {
      "cell_type": "code",
      "metadata": {
        "id": "Phcy_p03kbhn",
        "colab_type": "code",
        "colab": {}
      },
      "source": [
        "#Question 1"
      ],
      "execution_count": null,
      "outputs": []
    },
    {
      "cell_type": "code",
      "metadata": {
        "id": "_8_WwxESkej4",
        "colab_type": "code",
        "colab": {
          "base_uri": "https://localhost:8080/",
          "height": 34
        },
        "outputId": "910f7149-4e61-4e32-e5cc-9660a0d909df"
      },
      "source": [
        "%%writefile  prime_number.py\n",
        "'''\n",
        "It is Function to check prime number\n",
        "'''\n",
        "def test_prime(num_n):\n",
        "    '''\n",
        "    this is a Prime Function\n",
        "    '''\n",
        "    if num_n==1:\n",
        "        return False\n",
        "    for i in range(2,num_n):\n",
        "        if num_n%i==0:\n",
        "            return False\n",
        "        return True"
      ],
      "execution_count": 41,
      "outputs": [
        {
          "output_type": "stream",
          "text": [
            "Overwriting prime_number.py\n"
          ],
          "name": "stdout"
        }
      ]
    },
    {
      "cell_type": "code",
      "metadata": {
        "id": "-iVZRPYomrC7",
        "colab_type": "code",
        "colab": {
          "base_uri": "https://localhost:8080/",
          "height": 190
        },
        "outputId": "5776d88f-21ed-4186-fe35-3ada98e20f14"
      },
      "source": [
        "! pip install pylint"
      ],
      "execution_count": 20,
      "outputs": [
        {
          "output_type": "stream",
          "text": [
            "Requirement already satisfied: pylint in /usr/local/lib/python3.6/dist-packages (2.6.0)\n",
            "Requirement already satisfied: toml>=0.7.1 in /usr/local/lib/python3.6/dist-packages (from pylint) (0.10.1)\n",
            "Requirement already satisfied: isort<6,>=4.2.5 in /usr/local/lib/python3.6/dist-packages (from pylint) (5.5.2)\n",
            "Requirement already satisfied: astroid<=2.5,>=2.4.0 in /usr/local/lib/python3.6/dist-packages (from pylint) (2.4.2)\n",
            "Requirement already satisfied: mccabe<0.7,>=0.6 in /usr/local/lib/python3.6/dist-packages (from pylint) (0.6.1)\n",
            "Requirement already satisfied: wrapt~=1.11 in /usr/local/lib/python3.6/dist-packages (from astroid<=2.5,>=2.4.0->pylint) (1.12.1)\n",
            "Requirement already satisfied: typed-ast<1.5,>=1.4.0; implementation_name == \"cpython\" and python_version < \"3.8\" in /usr/local/lib/python3.6/dist-packages (from astroid<=2.5,>=2.4.0->pylint) (1.4.1)\n",
            "Requirement already satisfied: six~=1.12 in /usr/local/lib/python3.6/dist-packages (from astroid<=2.5,>=2.4.0->pylint) (1.15.0)\n",
            "Requirement already satisfied: lazy-object-proxy==1.4.* in /usr/local/lib/python3.6/dist-packages (from astroid<=2.5,>=2.4.0->pylint) (1.4.3)\n"
          ],
          "name": "stdout"
        }
      ]
    },
    {
      "cell_type": "code",
      "metadata": {
        "id": "UWzJx53Gm4Ge",
        "colab_type": "code",
        "colab": {
          "base_uri": "https://localhost:8080/",
          "height": 139
        },
        "outputId": "72688c10-b214-43a5-cae0-53ff858701bf"
      },
      "source": [
        "! pylint \"prime_number.py\""
      ],
      "execution_count": 42,
      "outputs": [
        {
          "output_type": "stream",
          "text": [
            "************* Module prime_number\n",
            "prime_number.py:13:0: C0304: Final newline missing (missing-final-newline)\n",
            "\n",
            "------------------------------------------------------------------\n",
            "Your code has been rated at 8.57/10 (previous run: 8.57/10, +0.00)\n",
            "\n"
          ],
          "name": "stdout"
        }
      ]
    },
    {
      "cell_type": "code",
      "metadata": {
        "id": "1MDd-ijkn7SA",
        "colab_type": "code",
        "colab": {}
      },
      "source": [
        "#QUESTION 2"
      ],
      "execution_count": null,
      "outputs": []
    },
    {
      "cell_type": "code",
      "metadata": {
        "id": "eCKlzDoSn97B",
        "colab_type": "code",
        "colab": {
          "base_uri": "https://localhost:8080/",
          "height": 190
        },
        "outputId": "10847a09-e80d-44af-9dcd-9eadf529d3f0"
      },
      "source": [
        " \n",
        "print(\"Enter x for exit.\")\n",
        "print(\"enter the interval (starting and ending number)\");\n",
        "start=input();\n",
        "if start=='x':\n",
        "   exit();\n",
        "else:\n",
        "  end=input();\n",
        "  lower=int(start);\n",
        "  upper=int(end);\n",
        "for num in range(lower,upper+1):\n",
        "  sum=0;\n",
        "  temp=num;\n",
        "  while temp!=0:\n",
        "     digit= temp%10;\n",
        "     sum=sum+ digit**3;\n",
        "     temp//=10;\n",
        "  if num==sum:\n",
        "      print(num);"
      ],
      "execution_count": 47,
      "outputs": [
        {
          "output_type": "stream",
          "text": [
            "Enter x for exit.\n",
            "enter the interval (starting and ending number)\n",
            "1\n",
            "1000\n",
            "1\n",
            "153\n",
            "370\n",
            "371\n",
            "407\n"
          ],
          "name": "stdout"
        }
      ]
    }
  ]
}