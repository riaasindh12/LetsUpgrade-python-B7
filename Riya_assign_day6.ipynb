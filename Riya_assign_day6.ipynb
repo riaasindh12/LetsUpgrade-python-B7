{
  "nbformat": 4,
  "nbformat_minor": 0,
  "metadata": {
    "colab": {
      "name": "Riya assign day6.ipynb",
      "provenance": [],
      "collapsed_sections": [],
      "authorship_tag": "ABX9TyOg5ozIspDBrWmgL2TxK1fC",
      "include_colab_link": true
    },
    "kernelspec": {
      "name": "python3",
      "display_name": "Python 3"
    }
  },
  "cells": [
    {
      "cell_type": "markdown",
      "metadata": {
        "id": "view-in-github",
        "colab_type": "text"
      },
      "source": [
        "<a href=\"https://colab.research.google.com/github/riaasindh12/LetsUpgrade-python-B7/blob/master/Riya_assign_day6.ipynb\" target=\"_parent\"><img src=\"https://colab.research.google.com/assets/colab-badge.svg\" alt=\"Open In Colab\"/></a>"
      ]
    },
    {
      "cell_type": "code",
      "metadata": {
        "id": "Ygt8F804OQEc",
        "colab_type": "code",
        "colab": {}
      },
      "source": [
        "#ASSIGNMENT DAY 6\n",
        "#PYTHON ESSENTIALS (BATCH 7)"
      ],
      "execution_count": null,
      "outputs": []
    },
    {
      "cell_type": "code",
      "metadata": {
        "id": "A_lzhMZWdasb",
        "colab_type": "code",
        "colab": {}
      },
      "source": [
        "#QUESTION 2"
      ],
      "execution_count": null,
      "outputs": []
    },
    {
      "cell_type": "code",
      "metadata": {
        "id": "dik74RU_O-Mf",
        "colab_type": "code",
        "colab": {}
      },
      "source": [
        "#Write a program to calculate \n",
        "#volume and surface area by \n",
        "#using class"
      ],
      "execution_count": null,
      "outputs": []
    },
    {
      "cell_type": "code",
      "metadata": {
        "id": "478hlKV8Ocf3",
        "colab_type": "code",
        "colab": {
          "base_uri": "https://localhost:8080/",
          "height": 85
        },
        "outputId": "3f8609d3-1b19-4e22-d76d-8d3cbe0df7e5"
      },
      "source": [
        " import math\n",
        "class cone():\n",
        "    def __init__(self,radius,height):\n",
        "        self.radius=r    \n",
        "        self.height=h\n",
        "    def volume(self):\n",
        "        return (1/3)*math.pi*(self.radius**2)*(self.height)\n",
        "    def area(self):\n",
        "        return math.pi * self.radius * (self.radius + math.sqrt(self.radius * self.radius + self.height * self.height))\n",
        " \n",
        "r=int(input(\"Enter radius of cone: \"))\n",
        "h=int(input(\"Enter height of cone: \"))\n",
        "obj=cone(r,h)\n",
        "print(\"Volume of cone:\",round(obj.volume(),2))\n",
        "print(\"Surface area of cone:\",round(obj.area(),2))"
      ],
      "execution_count": null,
      "outputs": [
        {
          "output_type": "stream",
          "text": [
            "Enter radius of cone: 8\n",
            "Enter height of cone: 7\n",
            "Volume of cone: 469.14\n",
            "Surface area of cone: 468.23\n"
          ],
          "name": "stdout"
        }
      ]
    },
    {
      "cell_type": "code",
      "metadata": {
        "id": "X6FtkX9VdSLH",
        "colab_type": "code",
        "colab": {}
      },
      "source": [
        "#QUESTION 1"
      ],
      "execution_count": null,
      "outputs": []
    },
    {
      "cell_type": "code",
      "metadata": {
        "id": "sC8BQrAIPGrq",
        "colab_type": "code",
        "colab": {}
      },
      "source": [
        "#Write a program to create a bank\n",
        "#account using class."
      ],
      "execution_count": null,
      "outputs": []
    },
    {
      "cell_type": "code",
      "metadata": {
        "id": "LdwK7KcmPSUk",
        "colab_type": "code",
        "colab": {
          "base_uri": "https://localhost:8080/",
          "height": 224
        },
        "outputId": "621d8208-c0ec-4ba0-cf2c-7c87b1675c16"
      },
      "source": [
        " \n",
        "class Bank_Account: \n",
        " \n",
        "    def __init__(self): \n",
        " \n",
        "        self.balance=0\n",
        " \n",
        "        print(\"Hello!!! Welcome to your account\")\n",
        "    \n",
        "    def name(self):\n",
        "      \n",
        "        name = input(\"\\n Enter Owner Name :\")\n",
        "       \n",
        "    def deposit(self): \n",
        " \n",
        "        amount=float(input(\"\\n Enter amount to be Deposited: \")) \n",
        " \n",
        "        self.balance += amount \n",
        " \n",
        "        print(\" Amount Deposited:\",amount) \n",
        " \n",
        "    def withdraw(self): \n",
        " \n",
        "        amount = float(input(\"\\n Enter amount to be Withdrawn: \")) \n",
        " \n",
        "        if self.balance>=amount: \n",
        " \n",
        "            self.balance-=amount \n",
        " \n",
        "            print(\" You Withdrew:\", amount) \n",
        " \n",
        "        else: \n",
        " \n",
        "            print(\"\\n Insufficient balance  \") \n",
        " \n",
        "    def display(self): \n",
        " \n",
        "        print(\"\\n Net Available Balance=\",self.balance) \n",
        " \n",
        "s = Bank_Account() \n",
        "s.name()\n",
        "s.deposit() \n",
        "s.withdraw() \n",
        "s.display()"
      ],
      "execution_count": null,
      "outputs": [
        {
          "output_type": "stream",
          "text": [
            "Hello!!! Welcome to your account\n",
            "\n",
            " Enter Owner Name :Usha\n",
            "\n",
            " Enter amount to be Deposited: 100\n",
            " Amount Deposited: 100.0\n",
            "\n",
            " Enter amount to be Withdrawn: 20\n",
            " You Withdrew: 20.0\n",
            "\n",
            " Net Available Balance= 80.0\n"
          ],
          "name": "stdout"
        }
      ]
    },
    {
      "cell_type": "code",
      "metadata": {
        "id": "eiONygNsc_IY",
        "colab_type": "code",
        "colab": {
          "base_uri": "https://localhost:8080/",
          "height": 224
        },
        "outputId": "dbdd5204-49f2-47b2-afc3-b7f3622dfe59"
      },
      "source": [
        "s = Bank_Account() \n",
        "s.name()\n",
        "s.deposit() \n",
        "s.withdraw() \n",
        "s.display()"
      ],
      "execution_count": null,
      "outputs": [
        {
          "output_type": "stream",
          "text": [
            "Hello!!! Welcome to your account\n",
            "\n",
            " Enter Owner Name :Riya\n",
            "\n",
            " Enter amount to be Deposited: 60000\n",
            " Amount Deposited: 60000.0\n",
            "\n",
            " Enter amount to be Withdrawn: 5005.8\n",
            " You Withdrew: 5005.8\n",
            "\n",
            " Net Available Balance= 54994.2\n"
          ],
          "name": "stdout"
        }
      ]
    }
  ]
}